{
 "cells": [
  {
   "cell_type": "code",
   "execution_count": 10,
   "metadata": {},
   "outputs": [
    {
     "name": "stdout",
     "output_type": "stream",
     "text": [
      "dict_keys(['intervals', 'time_intervals', 'query_names', 'topk', 'topk_scores'])\n"
     ]
    }
   ],
   "source": [
    "import os\n",
    "import pickle\n",
    "import tqdm\n",
    "import cv2\n",
    "\n",
    "output_path = './output/ssg_video006_2/'\n",
    "result_path = os.path.join(output_path, 'result.pickle')\n",
    "video_path = '../crabs_dataset/ssg_video006/ssg_video006.mp4'\n",
    "\n",
    "with open(result_path, 'rb') as f:\n",
    "    results = pickle.load(f)\n",
    "\n",
    "intervals = results['intervals']\n",
    "time_intervals = results['time_intervals']\n",
    "query_names = results['query_names']\n",
    "topk = results['topk']\n",
    "topk_scores = results['topk_scores']\n",
    "\n",
    "interval_idx = 1\n",
    "vs = cv2.VideoCapture(video_path)\n",
    "width = int(vs.get(cv2.CAP_PROP_FRAME_WIDTH))//2\n",
    "height = int(vs.get(cv2.CAP_PROP_FRAME_HEIGHT))//2\n",
    "fps = int(vs.get(cv2.CAP_PROP_FPS))\n",
    "frame_count = int(vs.get(cv2.CAP_PROP_FRAME_COUNT))\n",
    "\n",
    "fourcc = cv2.VideoWriter_fourcc(*'mp4v') \n",
    "outvideo_path = os.path.join(output_path, 'output.mp4')\n",
    "outvideo = cv2.VideoWriter(outvideo_path, fourcc, fps, (width, height))\n",
    "\n",
    "for idx in tqdm(range(frame_count)):\n",
    "    ret, frame = vs.read()\n",
    "    frame = cv2.resize((width,height), frame)\n",
    "\n",
    "    if intervals[interval_idx] < idx:\n",
    "        interval_idx+=1\n",
    "    \n",
    "    newframe = self.draw_label(frame, topk[interval_idx-1], topk_scores[interval_idx-1])\n",
    "    outvideo.write(newframe)\n",
    "outvideo.release()"
   ]
  },
  {
   "cell_type": "code",
   "execution_count": 8,
   "metadata": {},
   "outputs": [
    {
     "data": {
      "text/plain": [
       "255"
      ]
     },
     "execution_count": 8,
     "metadata": {},
     "output_type": "execute_result"
    }
   ],
   "source": [
    "len(file['intervals'])"
   ]
  },
  {
   "cell_type": "code",
   "execution_count": null,
   "metadata": {},
   "outputs": [],
   "source": []
  },
  {
   "cell_type": "code",
   "execution_count": null,
   "metadata": {},
   "outputs": [],
   "source": []
  }
 ],
 "metadata": {
  "kernelspec": {
   "display_name": "lavis",
   "language": "python",
   "name": "python3"
  },
  "language_info": {
   "codemirror_mode": {
    "name": "ipython",
    "version": 3
   },
   "file_extension": ".py",
   "mimetype": "text/x-python",
   "name": "python",
   "nbconvert_exporter": "python",
   "pygments_lexer": "ipython3",
   "version": "3.8.17"
  }
 },
 "nbformat": 4,
 "nbformat_minor": 2
}
